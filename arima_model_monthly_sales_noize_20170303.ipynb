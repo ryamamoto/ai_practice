{
 "cells": [
  {
   "cell_type": "code",
   "execution_count": 130,
   "metadata": {
    "collapsed": false,
    "scrolled": true
   },
   "outputs": [
    {
     "data": {
      "text/html": [
       "<div>\n",
       "<table border=\"1\" class=\"dataframe\">\n",
       "  <thead>\n",
       "    <tr style=\"text-align: right;\">\n",
       "      <th></th>\n",
       "      <th>sales</th>\n",
       "    </tr>\n",
       "    <tr>\n",
       "      <th>date</th>\n",
       "      <th></th>\n",
       "    </tr>\n",
       "  </thead>\n",
       "  <tbody>\n",
       "    <tr>\n",
       "      <th>2014-01-01</th>\n",
       "      <td>0</td>\n",
       "    </tr>\n",
       "    <tr>\n",
       "      <th>2014-01-02</th>\n",
       "      <td>0</td>\n",
       "    </tr>\n",
       "    <tr>\n",
       "      <th>2014-01-03</th>\n",
       "      <td>1</td>\n",
       "    </tr>\n",
       "    <tr>\n",
       "      <th>2014-01-04</th>\n",
       "      <td>1</td>\n",
       "    </tr>\n",
       "    <tr>\n",
       "      <th>2014-01-05</th>\n",
       "      <td>3</td>\n",
       "    </tr>\n",
       "    <tr>\n",
       "      <th>2014-01-06</th>\n",
       "      <td>0</td>\n",
       "    </tr>\n",
       "    <tr>\n",
       "      <th>2014-01-07</th>\n",
       "      <td>2</td>\n",
       "    </tr>\n",
       "    <tr>\n",
       "      <th>2014-01-08</th>\n",
       "      <td>1</td>\n",
       "    </tr>\n",
       "    <tr>\n",
       "      <th>2014-01-09</th>\n",
       "      <td>0</td>\n",
       "    </tr>\n",
       "    <tr>\n",
       "      <th>2014-01-10</th>\n",
       "      <td>2</td>\n",
       "    </tr>\n",
       "    <tr>\n",
       "      <th>2014-01-11</th>\n",
       "      <td>0</td>\n",
       "    </tr>\n",
       "    <tr>\n",
       "      <th>2014-01-12</th>\n",
       "      <td>1</td>\n",
       "    </tr>\n",
       "    <tr>\n",
       "      <th>2014-01-13</th>\n",
       "      <td>3</td>\n",
       "    </tr>\n",
       "    <tr>\n",
       "      <th>2014-01-14</th>\n",
       "      <td>0</td>\n",
       "    </tr>\n",
       "    <tr>\n",
       "      <th>2014-01-15</th>\n",
       "      <td>0</td>\n",
       "    </tr>\n",
       "    <tr>\n",
       "      <th>2014-01-16</th>\n",
       "      <td>0</td>\n",
       "    </tr>\n",
       "    <tr>\n",
       "      <th>2014-01-17</th>\n",
       "      <td>0</td>\n",
       "    </tr>\n",
       "    <tr>\n",
       "      <th>2014-01-18</th>\n",
       "      <td>0</td>\n",
       "    </tr>\n",
       "    <tr>\n",
       "      <th>2014-01-19</th>\n",
       "      <td>4</td>\n",
       "    </tr>\n",
       "    <tr>\n",
       "      <th>2014-01-20</th>\n",
       "      <td>0</td>\n",
       "    </tr>\n",
       "    <tr>\n",
       "      <th>2014-01-21</th>\n",
       "      <td>0</td>\n",
       "    </tr>\n",
       "    <tr>\n",
       "      <th>2014-01-22</th>\n",
       "      <td>0</td>\n",
       "    </tr>\n",
       "    <tr>\n",
       "      <th>2014-01-23</th>\n",
       "      <td>0</td>\n",
       "    </tr>\n",
       "    <tr>\n",
       "      <th>2014-01-24</th>\n",
       "      <td>0</td>\n",
       "    </tr>\n",
       "    <tr>\n",
       "      <th>2014-01-25</th>\n",
       "      <td>1</td>\n",
       "    </tr>\n",
       "    <tr>\n",
       "      <th>2014-01-26</th>\n",
       "      <td>1</td>\n",
       "    </tr>\n",
       "    <tr>\n",
       "      <th>2014-01-27</th>\n",
       "      <td>0</td>\n",
       "    </tr>\n",
       "    <tr>\n",
       "      <th>2014-01-28</th>\n",
       "      <td>4</td>\n",
       "    </tr>\n",
       "    <tr>\n",
       "      <th>2014-01-29</th>\n",
       "      <td>0</td>\n",
       "    </tr>\n",
       "    <tr>\n",
       "      <th>2014-01-30</th>\n",
       "      <td>1</td>\n",
       "    </tr>\n",
       "    <tr>\n",
       "      <th>...</th>\n",
       "      <td>...</td>\n",
       "    </tr>\n",
       "    <tr>\n",
       "      <th>2017-01-12</th>\n",
       "      <td>1</td>\n",
       "    </tr>\n",
       "    <tr>\n",
       "      <th>2017-01-13</th>\n",
       "      <td>0</td>\n",
       "    </tr>\n",
       "    <tr>\n",
       "      <th>2017-01-14</th>\n",
       "      <td>0</td>\n",
       "    </tr>\n",
       "    <tr>\n",
       "      <th>2017-01-15</th>\n",
       "      <td>2</td>\n",
       "    </tr>\n",
       "    <tr>\n",
       "      <th>2017-01-16</th>\n",
       "      <td>0</td>\n",
       "    </tr>\n",
       "    <tr>\n",
       "      <th>2017-01-17</th>\n",
       "      <td>0</td>\n",
       "    </tr>\n",
       "    <tr>\n",
       "      <th>2017-01-18</th>\n",
       "      <td>0</td>\n",
       "    </tr>\n",
       "    <tr>\n",
       "      <th>2017-01-19</th>\n",
       "      <td>0</td>\n",
       "    </tr>\n",
       "    <tr>\n",
       "      <th>2017-01-20</th>\n",
       "      <td>1</td>\n",
       "    </tr>\n",
       "    <tr>\n",
       "      <th>2017-01-21</th>\n",
       "      <td>1</td>\n",
       "    </tr>\n",
       "    <tr>\n",
       "      <th>2017-01-22</th>\n",
       "      <td>2</td>\n",
       "    </tr>\n",
       "    <tr>\n",
       "      <th>2017-01-23</th>\n",
       "      <td>180</td>\n",
       "    </tr>\n",
       "    <tr>\n",
       "      <th>2017-01-24</th>\n",
       "      <td>1</td>\n",
       "    </tr>\n",
       "    <tr>\n",
       "      <th>2017-01-25</th>\n",
       "      <td>1</td>\n",
       "    </tr>\n",
       "    <tr>\n",
       "      <th>2017-01-26</th>\n",
       "      <td>0</td>\n",
       "    </tr>\n",
       "    <tr>\n",
       "      <th>2017-01-27</th>\n",
       "      <td>0</td>\n",
       "    </tr>\n",
       "    <tr>\n",
       "      <th>2017-01-28</th>\n",
       "      <td>1</td>\n",
       "    </tr>\n",
       "    <tr>\n",
       "      <th>2017-01-29</th>\n",
       "      <td>2</td>\n",
       "    </tr>\n",
       "    <tr>\n",
       "      <th>2017-01-30</th>\n",
       "      <td>2</td>\n",
       "    </tr>\n",
       "    <tr>\n",
       "      <th>2017-01-31</th>\n",
       "      <td>1</td>\n",
       "    </tr>\n",
       "    <tr>\n",
       "      <th>2017-02-01</th>\n",
       "      <td>0</td>\n",
       "    </tr>\n",
       "    <tr>\n",
       "      <th>2017-02-02</th>\n",
       "      <td>2</td>\n",
       "    </tr>\n",
       "    <tr>\n",
       "      <th>2017-02-03</th>\n",
       "      <td>1</td>\n",
       "    </tr>\n",
       "    <tr>\n",
       "      <th>2017-02-04</th>\n",
       "      <td>0</td>\n",
       "    </tr>\n",
       "    <tr>\n",
       "      <th>2017-02-05</th>\n",
       "      <td>3</td>\n",
       "    </tr>\n",
       "    <tr>\n",
       "      <th>2017-02-06</th>\n",
       "      <td>1</td>\n",
       "    </tr>\n",
       "    <tr>\n",
       "      <th>2017-02-07</th>\n",
       "      <td>1</td>\n",
       "    </tr>\n",
       "    <tr>\n",
       "      <th>2017-02-08</th>\n",
       "      <td>0</td>\n",
       "    </tr>\n",
       "    <tr>\n",
       "      <th>2017-02-09</th>\n",
       "      <td>2</td>\n",
       "    </tr>\n",
       "    <tr>\n",
       "      <th>2017-02-10</th>\n",
       "      <td>2</td>\n",
       "    </tr>\n",
       "  </tbody>\n",
       "</table>\n",
       "<p>1137 rows × 1 columns</p>\n",
       "</div>"
      ],
      "text/plain": [
       "            sales\n",
       "date             \n",
       "2014-01-01      0\n",
       "2014-01-02      0\n",
       "2014-01-03      1\n",
       "2014-01-04      1\n",
       "2014-01-05      3\n",
       "2014-01-06      0\n",
       "2014-01-07      2\n",
       "2014-01-08      1\n",
       "2014-01-09      0\n",
       "2014-01-10      2\n",
       "2014-01-11      0\n",
       "2014-01-12      1\n",
       "2014-01-13      3\n",
       "2014-01-14      0\n",
       "2014-01-15      0\n",
       "2014-01-16      0\n",
       "2014-01-17      0\n",
       "2014-01-18      0\n",
       "2014-01-19      4\n",
       "2014-01-20      0\n",
       "2014-01-21      0\n",
       "2014-01-22      0\n",
       "2014-01-23      0\n",
       "2014-01-24      0\n",
       "2014-01-25      1\n",
       "2014-01-26      1\n",
       "2014-01-27      0\n",
       "2014-01-28      4\n",
       "2014-01-29      0\n",
       "2014-01-30      1\n",
       "...           ...\n",
       "2017-01-12      1\n",
       "2017-01-13      0\n",
       "2017-01-14      0\n",
       "2017-01-15      2\n",
       "2017-01-16      0\n",
       "2017-01-17      0\n",
       "2017-01-18      0\n",
       "2017-01-19      0\n",
       "2017-01-20      1\n",
       "2017-01-21      1\n",
       "2017-01-22      2\n",
       "2017-01-23    180\n",
       "2017-01-24      1\n",
       "2017-01-25      1\n",
       "2017-01-26      0\n",
       "2017-01-27      0\n",
       "2017-01-28      1\n",
       "2017-01-29      2\n",
       "2017-01-30      2\n",
       "2017-01-31      1\n",
       "2017-02-01      0\n",
       "2017-02-02      2\n",
       "2017-02-03      1\n",
       "2017-02-04      0\n",
       "2017-02-05      3\n",
       "2017-02-06      1\n",
       "2017-02-07      1\n",
       "2017-02-08      0\n",
       "2017-02-09      2\n",
       "2017-02-10      2\n",
       "\n",
       "[1137 rows x 1 columns]"
      ]
     },
     "execution_count": 130,
     "metadata": {},
     "output_type": "execute_result"
    }
   ],
   "source": [
    "# グラフをインライン表示に\n",
    "%matplotlib inline\n",
    "\n",
    "# 描画ライブラリ\n",
    "import matplotlib\n",
    "import matplotlib.pyplot as plt\n",
    "\n",
    "# 数値計算ライブラリ\n",
    "import numpy as np\n",
    "\n",
    "# データ解析支援ライブラリ\n",
    "import pandas as pd\n",
    "\n",
    "# 日付ライブラリ\n",
    "import datetime as dt\n",
    "\n",
    "# CSVファイルを読み込み\n",
    "df = pd.read_csv(\"2532854.csv\",\n",
    "                 header=0,\n",
    "                 parse_dates=True,\n",
    "                 index_col='date', # indexとするカラム名\n",
    "                )\n",
    "\n",
    "# DataFrameを表示\n",
    "df"
   ]
  },
  {
   "cell_type": "code",
   "execution_count": 131,
   "metadata": {
    "collapsed": false
   },
   "outputs": [
    {
     "data": {
      "text/plain": [
       "[<matplotlib.lines.Line2D at 0x10cdff90>]"
      ]
     },
     "execution_count": 131,
     "metadata": {},
     "output_type": "execute_result"
    },
    {
     "data": {
      "image/png": "[encoded data removed]",
      "text/plain": [
       "<matplotlib.figure.Figure at 0x100b3290>"
      ]
     },
     "metadata": {},
     "output_type": "display_data"
    }
   ],
   "source": [
    "# 2017-01-23が、180個売れている!!\n",
    "\n",
    "# グラフ表示\n",
    "plt.plot(df)"
   ]
  },
  {
   "cell_type": "code",
   "execution_count": 132,
   "metadata": {
    "collapsed": false
   },
   "outputs": [
    {
     "name": "stdout",
     "output_type": "stream",
     "text": [
      "平均値: 3.926121372031662\n",
      "標準偏差: 7.860245553043119\n",
      "中央値: 1.0\n",
      "最大値: 180\n",
      "最小値: 0\n"
     ]
    },
    {
     "data": {
      "text/html": [
       "<div>\n",
       "<table border=\"1\" class=\"dataframe\">\n",
       "  <thead>\n",
       "    <tr style=\"text-align: right;\">\n",
       "      <th></th>\n",
       "      <th>sales</th>\n",
       "    </tr>\n",
       "  </thead>\n",
       "  <tbody>\n",
       "    <tr>\n",
       "      <th>count</th>\n",
       "      <td>1137.000000</td>\n",
       "    </tr>\n",
       "    <tr>\n",
       "      <th>mean</th>\n",
       "      <td>3.926121</td>\n",
       "    </tr>\n",
       "    <tr>\n",
       "      <th>std</th>\n",
       "      <td>7.863704</td>\n",
       "    </tr>\n",
       "    <tr>\n",
       "      <th>min</th>\n",
       "      <td>0.000000</td>\n",
       "    </tr>\n",
       "    <tr>\n",
       "      <th>25%</th>\n",
       "      <td>0.000000</td>\n",
       "    </tr>\n",
       "    <tr>\n",
       "      <th>50%</th>\n",
       "      <td>1.000000</td>\n",
       "    </tr>\n",
       "    <tr>\n",
       "      <th>75%</th>\n",
       "      <td>5.000000</td>\n",
       "    </tr>\n",
       "    <tr>\n",
       "      <th>max</th>\n",
       "      <td>180.000000</td>\n",
       "    </tr>\n",
       "  </tbody>\n",
       "</table>\n",
       "</div>"
      ],
      "text/plain": [
       "             sales\n",
       "count  1137.000000\n",
       "mean      3.926121\n",
       "std       7.863704\n",
       "min       0.000000\n",
       "25%       0.000000\n",
       "50%       1.000000\n",
       "75%       5.000000\n",
       "max     180.000000"
      ]
     },
     "execution_count": 132,
     "metadata": {},
     "output_type": "execute_result"
    }
   ],
   "source": [
    "# 平均値\n",
    "ave = np.average(df)\n",
    "\n",
    "# 標準偏差 (平均値からの距離の平均)\n",
    "total = 0\n",
    "for i in range(len(df)):\n",
    "    total += (df.sales[i] - ave)**2\n",
    "sd = np.sqrt(total/len(df))\n",
    "\n",
    "# 中央値\n",
    "median = np.median(df)\n",
    "\n",
    "# 最大値\n",
    "max = np.max(df.sales)\n",
    "\n",
    "# 最小値\n",
    "min = np.min(df.sales)\n",
    "\n",
    "\n",
    "# 表示\n",
    "print('平均値: {}'.format(ave))\n",
    "print('標準偏差: {}'.format(sd))\n",
    "print('中央値: {}'.format(median))\n",
    "print('最大値: {}'.format(max))\n",
    "print('最小値: {}'.format(min))\n",
    "\n",
    "# 要約統計量を表示\n",
    "df.describe()"
   ]
  },
  {
   "cell_type": "code",
   "execution_count": 133,
   "metadata": {
    "collapsed": false
   },
   "outputs": [
    {
     "name": "stdout",
     "output_type": "stream",
     "text": [
      "閾値: 82.52857690246285\n",
      "[検知した外れ値] index:2017-01-23 00:00:00, sales:180\n",
      "[修正した後の値] index:2017-01-23 00:00:00, sales:11\n"
     ]
    },
    {
     "data": {
      "text/plain": [
       "[<matplotlib.lines.Line2D at 0x10d2fbd0>]"
      ]
     },
     "execution_count": 133,
     "metadata": {},
     "output_type": "execute_result"
    },
    {
     "data": {
      "image/png": "[encoded data removed]",
      "text/plain": [
       "<matplotlib.figure.Figure at 0x10cff9b0>"
      ]
     },
     "metadata": {},
     "output_type": "display_data"
    }
   ],
   "source": [
    "# 「平均値 + (10 x 標準偏差)」より大きい値は、外れ値とする\n",
    "out = ave + (10 * sd)\n",
    "print('閾値: {}'.format(out))\n",
    "\n",
    "# 外れ値は、(平均値 + 標準偏差) に置き換え\n",
    "for index, line in df.iterrows():\n",
    "    if line['sales'] > out:\n",
    "        print('[検知した外れ値] index:{}, sales:{}'.format(index, line['sales']))\n",
    "        # 値を置換 (int型にキャスト)\n",
    "        df.loc[index, 'sales'] = int(ave + sd)\n",
    "        # 置換後の値\n",
    "        print('[修正した後の値] index:{}, sales:{}'.format(index, df.loc[index, 'sales']))\n",
    "\n",
    "# 値を修正後のグラフを表示\n",
    "plt.plot(df)"
   ]
  },
  {
   "cell_type": "code",
   "execution_count": 134,
   "metadata": {
    "collapsed": false
   },
   "outputs": [
    {
     "data": {
      "text/html": [
       "<div>\n",
       "<table border=\"1\" class=\"dataframe\">\n",
       "  <thead>\n",
       "    <tr style=\"text-align: right;\">\n",
       "      <th></th>\n",
       "      <th>monthly_sales</th>\n",
       "    </tr>\n",
       "    <tr>\n",
       "      <th>yyyymm</th>\n",
       "      <th></th>\n",
       "    </tr>\n",
       "  </thead>\n",
       "  <tbody>\n",
       "    <tr>\n",
       "      <th>2014-01</th>\n",
       "      <td>26</td>\n",
       "    </tr>\n",
       "    <tr>\n",
       "      <th>2014-02</th>\n",
       "      <td>11</td>\n",
       "    </tr>\n",
       "    <tr>\n",
       "      <th>2014-03</th>\n",
       "      <td>35</td>\n",
       "    </tr>\n",
       "    <tr>\n",
       "      <th>2014-04</th>\n",
       "      <td>0</td>\n",
       "    </tr>\n",
       "    <tr>\n",
       "      <th>2014-05</th>\n",
       "      <td>0</td>\n",
       "    </tr>\n",
       "    <tr>\n",
       "      <th>2014-06</th>\n",
       "      <td>0</td>\n",
       "    </tr>\n",
       "    <tr>\n",
       "      <th>2014-07</th>\n",
       "      <td>183</td>\n",
       "    </tr>\n",
       "    <tr>\n",
       "      <th>2014-08</th>\n",
       "      <td>244</td>\n",
       "    </tr>\n",
       "    <tr>\n",
       "      <th>2014-09</th>\n",
       "      <td>224</td>\n",
       "    </tr>\n",
       "    <tr>\n",
       "      <th>2014-10</th>\n",
       "      <td>124</td>\n",
       "    </tr>\n",
       "    <tr>\n",
       "      <th>2014-11</th>\n",
       "      <td>41</td>\n",
       "    </tr>\n",
       "    <tr>\n",
       "      <th>2014-12</th>\n",
       "      <td>27</td>\n",
       "    </tr>\n",
       "    <tr>\n",
       "      <th>2015-01</th>\n",
       "      <td>34</td>\n",
       "    </tr>\n",
       "    <tr>\n",
       "      <th>2015-02</th>\n",
       "      <td>11</td>\n",
       "    </tr>\n",
       "    <tr>\n",
       "      <th>2015-03</th>\n",
       "      <td>60</td>\n",
       "    </tr>\n",
       "    <tr>\n",
       "      <th>2015-04</th>\n",
       "      <td>53</td>\n",
       "    </tr>\n",
       "    <tr>\n",
       "      <th>2015-05</th>\n",
       "      <td>55</td>\n",
       "    </tr>\n",
       "    <tr>\n",
       "      <th>2015-06</th>\n",
       "      <td>34</td>\n",
       "    </tr>\n",
       "    <tr>\n",
       "      <th>2015-07</th>\n",
       "      <td>94</td>\n",
       "    </tr>\n",
       "    <tr>\n",
       "      <th>2015-08</th>\n",
       "      <td>115</td>\n",
       "    </tr>\n",
       "    <tr>\n",
       "      <th>2015-09</th>\n",
       "      <td>181</td>\n",
       "    </tr>\n",
       "    <tr>\n",
       "      <th>2015-10</th>\n",
       "      <td>104</td>\n",
       "    </tr>\n",
       "    <tr>\n",
       "      <th>2015-11</th>\n",
       "      <td>59</td>\n",
       "    </tr>\n",
       "    <tr>\n",
       "      <th>2015-12</th>\n",
       "      <td>16</td>\n",
       "    </tr>\n",
       "    <tr>\n",
       "      <th>2016-01</th>\n",
       "      <td>11</td>\n",
       "    </tr>\n",
       "    <tr>\n",
       "      <th>2016-02</th>\n",
       "      <td>16</td>\n",
       "    </tr>\n",
       "    <tr>\n",
       "      <th>2016-03</th>\n",
       "      <td>75</td>\n",
       "    </tr>\n",
       "    <tr>\n",
       "      <th>2016-04</th>\n",
       "      <td>413</td>\n",
       "    </tr>\n",
       "    <tr>\n",
       "      <th>2016-05</th>\n",
       "      <td>396</td>\n",
       "    </tr>\n",
       "    <tr>\n",
       "      <th>2016-06</th>\n",
       "      <td>223</td>\n",
       "    </tr>\n",
       "    <tr>\n",
       "      <th>2016-07</th>\n",
       "      <td>457</td>\n",
       "    </tr>\n",
       "    <tr>\n",
       "      <th>2016-08</th>\n",
       "      <td>440</td>\n",
       "    </tr>\n",
       "    <tr>\n",
       "      <th>2016-09</th>\n",
       "      <td>279</td>\n",
       "    </tr>\n",
       "    <tr>\n",
       "      <th>2016-10</th>\n",
       "      <td>152</td>\n",
       "    </tr>\n",
       "    <tr>\n",
       "      <th>2016-11</th>\n",
       "      <td>37</td>\n",
       "    </tr>\n",
       "    <tr>\n",
       "      <th>2016-12</th>\n",
       "      <td>21</td>\n",
       "    </tr>\n",
       "    <tr>\n",
       "      <th>2017-01</th>\n",
       "      <td>32</td>\n",
       "    </tr>\n",
       "    <tr>\n",
       "      <th>2017-02</th>\n",
       "      <td>12</td>\n",
       "    </tr>\n",
       "  </tbody>\n",
       "</table>\n",
       "</div>"
      ],
      "text/plain": [
       "         monthly_sales\n",
       "yyyymm                \n",
       "2014-01             26\n",
       "2014-02             11\n",
       "2014-03             35\n",
       "2014-04              0\n",
       "2014-05              0\n",
       "2014-06              0\n",
       "2014-07            183\n",
       "2014-08            244\n",
       "2014-09            224\n",
       "2014-10            124\n",
       "2014-11             41\n",
       "2014-12             27\n",
       "2015-01             34\n",
       "2015-02             11\n",
       "2015-03             60\n",
       "2015-04             53\n",
       "2015-05             55\n",
       "2015-06             34\n",
       "2015-07             94\n",
       "2015-08            115\n",
       "2015-09            181\n",
       "2015-10            104\n",
       "2015-11             59\n",
       "2015-12             16\n",
       "2016-01             11\n",
       "2016-02             16\n",
       "2016-03             75\n",
       "2016-04            413\n",
       "2016-05            396\n",
       "2016-06            223\n",
       "2016-07            457\n",
       "2016-08            440\n",
       "2016-09            279\n",
       "2016-10            152\n",
       "2016-11             37\n",
       "2016-12             21\n",
       "2017-01             32\n",
       "2017-02             12"
      ]
     },
     "execution_count": 134,
     "metadata": {},
     "output_type": "execute_result"
    }
   ],
   "source": [
    "year = []\n",
    "month = []\n",
    "day = []\n",
    "yyyymm = []\n",
    "\n",
    "# 各行のindexとその行を表すSeriesオブジェクトを順番に取得\n",
    "for index, line in df.iterrows():\n",
    "    # indexに格納している日付を文字列型で取得\n",
    "    ymd = str(index)\n",
    "    # 日付のパーツを抜き出し\n",
    "    year.append(ymd[0:4])\n",
    "    month.append(ymd[5:7])\n",
    "    day.append(ymd[5:7])\n",
    "    yyyymm.append(ymd[:7])\n",
    "\n",
    "# DataFrameに列を追加    \n",
    "df['year'] = year\n",
    "df['month'] = month\n",
    "df['day'] = day\n",
    "df['yyyymm'] = yyyymm\n",
    "\n",
    "# yyyymm列の値ごとに、sales列の値を合計する (Seriesオブジェクト)\n",
    "monthly_sales = df.groupby('yyyymm')['sales'].sum()\n",
    "\n",
    "# SeriesオブジェクトからDataFrameを作成\n",
    "summary = pd.DataFrame({'monthly_sales':monthly_sales})\n",
    "\n",
    "# 集計結果を表示\n",
    "summary"
   ]
  },
  {
   "cell_type": "code",
   "execution_count": 135,
   "metadata": {
    "collapsed": false
   },
   "outputs": [
    {
     "data": {
      "text/plain": [
       "<matplotlib.axes._subplots.AxesSubplot at 0x10d1ccb0>"
      ]
     },
     "execution_count": 135,
     "metadata": {},
     "output_type": "execute_result"
    },
    {
     "data": {
      "image/png": "[encoded data removed]",
      "text/plain": [
       "<matplotlib.figure.Figure at 0x10d2f190>"
      ]
     },
     "metadata": {},
     "output_type": "display_data"
    }
   ],
   "source": [
    "# 月別の販売個数グラフを描画\n",
    "summary['monthly_sales'].plot(title=\"2014/01 - 2017/02\")"
   ]
  },
  {
   "cell_type": "code",
   "execution_count": 136,
   "metadata": {
    "collapsed": false
   },
   "outputs": [
    {
     "data": {
      "text/plain": [
       "<matplotlib.legend.Legend at 0xf82f7f0>"
      ]
     },
     "execution_count": 136,
     "metadata": {},
     "output_type": "execute_result"
    },
    {
     "data": {
      "image/png": "[encoded data removed]",
      "text/plain": [
       "<matplotlib.figure.Figure at 0x10d2f910>"
      ]
     },
     "metadata": {},
     "output_type": "display_data"
    }
   ],
   "source": [
    "# 年別にデータを分割\n",
    "summary_2014 = summary['2014-01':'2014-12']\n",
    "summary_2015 = summary['2015-01':'2015-12']\n",
    "summary_2016 = summary['2016-01':'2016-12']\n",
    "\n",
    "\n",
    "# 年別グラフを描画\n",
    "summary_2014['monthly_sales'].plot(label=\"2014\")\n",
    "summary_2015['monthly_sales'].plot(label=\"2015\")\n",
    "summary_2016['monthly_sales'].plot(label=\"2016\")\n",
    "\n",
    "# 判例を描画\n",
    "plt.legend()"
   ]
  },
  {
   "cell_type": "code",
   "execution_count": 137,
   "metadata": {
    "collapsed": false
   },
   "outputs": [
    {
     "name": "stderr",
     "output_type": "stream",
     "text": [
      "C:\\Program Files\\Anaconda3\\lib\\site-packages\\ipykernel\\__main__.py:2: SettingWithCopyWarning: \n",
      "A value is trying to be set on a copy of a slice from a DataFrame.\n",
      "Try using .loc[row_indexer,col_indexer] = value instead\n",
      "\n",
      "See the caveats in the documentation: http://pandas.pydata.org/pandas-docs/stable/indexing.html#indexing-view-versus-copy\n",
      "  from ipykernel import kernelapp as app\n",
      "C:\\Program Files\\Anaconda3\\lib\\site-packages\\pandas\\core\\indexing.py:288: SettingWithCopyWarning: \n",
      "A value is trying to be set on a copy of a slice from a DataFrame.\n",
      "Try using .loc[row_indexer,col_indexer] = value instead\n",
      "\n",
      "See the caveats in the documentation: http://pandas.pydata.org/pandas-docs/stable/indexing.html#indexing-view-versus-copy\n",
      "  self.obj[key] = _infer_fill_value(value)\n",
      "C:\\Program Files\\Anaconda3\\lib\\site-packages\\pandas\\core\\indexing.py:465: SettingWithCopyWarning: \n",
      "A value is trying to be set on a copy of a slice from a DataFrame.\n",
      "Try using .loc[row_indexer,col_indexer] = value instead\n",
      "\n",
      "See the caveats in the documentation: http://pandas.pydata.org/pandas-docs/stable/indexing.html#indexing-view-versus-copy\n",
      "  self.obj[item] = s\n"
     ]
    },
    {
     "data": {
      "text/html": [
       "<div>\n",
       "<table border=\"1\" class=\"dataframe\">\n",
       "  <thead>\n",
       "    <tr style=\"text-align: right;\">\n",
       "      <th></th>\n",
       "      <th>monthly_sales</th>\n",
       "      <th>monthly_sales+100</th>\n",
       "      <th>log</th>\n",
       "    </tr>\n",
       "    <tr>\n",
       "      <th>yyyymm</th>\n",
       "      <th></th>\n",
       "      <th></th>\n",
       "      <th></th>\n",
       "    </tr>\n",
       "  </thead>\n",
       "  <tbody>\n",
       "    <tr>\n",
       "      <th>2014-01</th>\n",
       "      <td>26</td>\n",
       "      <td>126</td>\n",
       "      <td>4.836282</td>\n",
       "    </tr>\n",
       "    <tr>\n",
       "      <th>2014-02</th>\n",
       "      <td>11</td>\n",
       "      <td>111</td>\n",
       "      <td>4.709530</td>\n",
       "    </tr>\n",
       "    <tr>\n",
       "      <th>2014-03</th>\n",
       "      <td>35</td>\n",
       "      <td>135</td>\n",
       "      <td>4.905275</td>\n",
       "    </tr>\n",
       "    <tr>\n",
       "      <th>2014-04</th>\n",
       "      <td>0</td>\n",
       "      <td>100</td>\n",
       "      <td>4.605170</td>\n",
       "    </tr>\n",
       "    <tr>\n",
       "      <th>2014-05</th>\n",
       "      <td>0</td>\n",
       "      <td>100</td>\n",
       "      <td>4.605170</td>\n",
       "    </tr>\n",
       "    <tr>\n",
       "      <th>2014-06</th>\n",
       "      <td>0</td>\n",
       "      <td>100</td>\n",
       "      <td>4.605170</td>\n",
       "    </tr>\n",
       "    <tr>\n",
       "      <th>2014-07</th>\n",
       "      <td>183</td>\n",
       "      <td>283</td>\n",
       "      <td>5.645447</td>\n",
       "    </tr>\n",
       "    <tr>\n",
       "      <th>2014-08</th>\n",
       "      <td>244</td>\n",
       "      <td>344</td>\n",
       "      <td>5.840642</td>\n",
       "    </tr>\n",
       "    <tr>\n",
       "      <th>2014-09</th>\n",
       "      <td>224</td>\n",
       "      <td>324</td>\n",
       "      <td>5.780744</td>\n",
       "    </tr>\n",
       "    <tr>\n",
       "      <th>2014-10</th>\n",
       "      <td>124</td>\n",
       "      <td>224</td>\n",
       "      <td>5.411646</td>\n",
       "    </tr>\n",
       "    <tr>\n",
       "      <th>2014-11</th>\n",
       "      <td>41</td>\n",
       "      <td>141</td>\n",
       "      <td>4.948760</td>\n",
       "    </tr>\n",
       "    <tr>\n",
       "      <th>2014-12</th>\n",
       "      <td>27</td>\n",
       "      <td>127</td>\n",
       "      <td>4.844187</td>\n",
       "    </tr>\n",
       "  </tbody>\n",
       "</table>\n",
       "</div>"
      ],
      "text/plain": [
       "         monthly_sales  monthly_sales+100       log\n",
       "yyyymm                                             \n",
       "2014-01             26                126  4.836282\n",
       "2014-02             11                111  4.709530\n",
       "2014-03             35                135  4.905275\n",
       "2014-04              0                100  4.605170\n",
       "2014-05              0                100  4.605170\n",
       "2014-06              0                100  4.605170\n",
       "2014-07            183                283  5.645447\n",
       "2014-08            244                344  5.840642\n",
       "2014-09            224                324  5.780744\n",
       "2014-10            124                224  5.411646\n",
       "2014-11             41                141  4.948760\n",
       "2014-12             27                127  4.844187"
      ]
     },
     "execution_count": 137,
     "metadata": {},
     "output_type": "execute_result"
    }
   ],
   "source": [
    "# 0だとエラーになるので、販売個数を +100\n",
    "summary_2014['monthly_sales+100'] = summary_2014.loc[:, \"monthly_sales\"] + 100\n",
    "\n",
    "# log(対数)値の計算結果を列に追加\n",
    "summary_2014.loc[:, \"log\"] = np.log(summary_2014.loc[:, \"monthly_sales+100\"])\n",
    "\n",
    "# DataFrameを表示\n",
    "summary_2014"
   ]
  },
  {
   "cell_type": "code",
   "execution_count": 138,
   "metadata": {
    "collapsed": false
   },
   "outputs": [
    {
     "data": {
      "text/plain": [
       "pandas.tslib.Timestamp"
      ]
     },
     "execution_count": 138,
     "metadata": {},
     "output_type": "execute_result"
    }
   ],
   "source": [
    "# indexの型を Timestampに\n",
    "summary_2014.index = pd.to_datetime(summary_2014.index)\n",
    "\n",
    "# データ型の確認\n",
    "type(summary_2014.index[10])"
   ]
  },
  {
   "cell_type": "code",
   "execution_count": 139,
   "metadata": {
    "collapsed": false
   },
   "outputs": [
    {
     "name": "stderr",
     "output_type": "stream",
     "text": [
      "C:\\Program Files\\Anaconda3\\lib\\site-packages\\pandas\\core\\indexing.py:288: SettingWithCopyWarning: \n",
      "A value is trying to be set on a copy of a slice from a DataFrame.\n",
      "Try using .loc[row_indexer,col_indexer] = value instead\n",
      "\n",
      "See the caveats in the documentation: http://pandas.pydata.org/pandas-docs/stable/indexing.html#indexing-view-versus-copy\n",
      "  self.obj[key] = _infer_fill_value(value)\n",
      "C:\\Program Files\\Anaconda3\\lib\\site-packages\\pandas\\core\\indexing.py:465: SettingWithCopyWarning: \n",
      "A value is trying to be set on a copy of a slice from a DataFrame.\n",
      "Try using .loc[row_indexer,col_indexer] = value instead\n",
      "\n",
      "See the caveats in the documentation: http://pandas.pydata.org/pandas-docs/stable/indexing.html#indexing-view-versus-copy\n",
      "  self.obj[item] = s\n"
     ]
    },
    {
     "data": {
      "text/plain": [
       "<matplotlib.axes._subplots.AxesSubplot at 0xfaf0eb0>"
      ]
     },
     "execution_count": 139,
     "metadata": {},
     "output_type": "execute_result"
    },
    {
     "data": {
      "image/png": "[encoded data removed]",
      "text/plain": [
       "<matplotlib.figure.Figure at 0x10d211d0>"
      ]
     },
     "metadata": {},
     "output_type": "display_data"
    }
   ],
   "source": [
    "# ARMAモデル\n",
    "from statsmodels.tsa import arima_model\n",
    "\n",
    "# モデル作成\n",
    "model = arima_model.ARMA(summary_2014[\"log\"], order=(1,1))\n",
    "results = model.fit()\n",
    "\n",
    "# モデルの適用結果を列に追加\n",
    "summary_2014.loc[:,\"log fitted\"] = None\n",
    "summary_2014.loc[:,\"log fitted\"] = results.fittedvalues\n",
    "\n",
    "# グラフ描画（どれぐらい合っているか）\n",
    "summary_2014.loc[:,[\"log\",\"log fitted\"]].plot(title=\"2014 Year\")"
   ]
  },
  {
   "cell_type": "code",
   "execution_count": 140,
   "metadata": {
    "collapsed": false
   },
   "outputs": [
    {
     "data": {
      "text/plain": [
       "(array([ 4.91699391,  4.97432553,  5.00257667,  5.01649791,  5.02335783,\n",
       "         5.02673818,  5.0284039 ,  5.02922471,  5.02962918,  5.02982849,\n",
       "         5.02992671,  5.0299751 ]),\n",
       " array([ 0.3219684 ,  0.41117114,  0.4300484 ,  0.43450844,  0.43558453,\n",
       "         0.43584542,  0.43590875,  0.43592413,  0.43592786,  0.43592877,\n",
       "         0.43592899,  0.43592904]),\n",
       " array([[ 4.28594743,  5.54804038],\n",
       "        [ 4.1684449 ,  5.78020616],\n",
       "        [ 4.15969729,  5.84545605],\n",
       "        [ 4.16487702,  5.86811879],\n",
       "        [ 4.16962784,  5.87708782],\n",
       "        [ 4.17249684,  5.88097951],\n",
       "        [ 4.17403845,  5.88276935],\n",
       "        [ 4.17482913,  5.8836203 ],\n",
       "        [ 4.17522628,  5.88403209],\n",
       "        [ 4.17542381,  5.88423318],\n",
       "        [ 4.17552159,  5.88433182],\n",
       "        [ 4.17556988,  5.88438032]]))"
      ]
     },
     "execution_count": 140,
     "metadata": {},
     "output_type": "execute_result"
    }
   ],
   "source": [
    "# 今後 12か月の予測値 (monthlyデータなので)\n",
    "results.forecast(steps = 12)"
   ]
  },
  {
   "cell_type": "code",
   "execution_count": 141,
   "metadata": {
    "collapsed": false
   },
   "outputs": [
    {
     "data": {
      "text/plain": [
       "array([ 136.59138883,  144.65122962,  148.79606428,  150.8819745 ,\n",
       "        151.92057195,  152.43498499,  152.6891111 ,  152.81449186,\n",
       "        152.87631324,  152.90678598,  152.92180417,  152.92920519])"
      ]
     },
     "execution_count": 141,
     "metadata": {},
     "output_type": "execute_result"
    }
   ],
   "source": [
    "# 予測値(log値)を元の数字に戻す\n",
    "log_pred,_,_ = results.forecast(steps = 12)\n",
    "pred = np.exp(log_pred)\n",
    "\n",
    "# Numpy Arrayを表示\n",
    "pred"
   ]
  },
  {
   "cell_type": "code",
   "execution_count": 142,
   "metadata": {
    "collapsed": false
   },
   "outputs": [
    {
     "data": {
      "text/plain": [
       "array([ 36.59138883,  44.65122962,  48.79606428,  50.8819745 ,\n",
       "        51.92057195,  52.43498499,  52.6891111 ,  52.81449186,\n",
       "        52.87631324,  52.90678598,  52.92180417,  52.92920519])"
      ]
     },
     "execution_count": 142,
     "metadata": {},
     "output_type": "execute_result"
    }
   ],
   "source": [
    "# 販売個数+100 しているので、元の値に戻す\n",
    "sales = np.array([])\n",
    "for item in pred:\n",
    "    sales = np.append(sales, item - 100)\n",
    "\n",
    "# Numpy Arrayを表示\n",
    "sales"
   ]
  },
  {
   "cell_type": "code",
   "execution_count": 143,
   "metadata": {
    "collapsed": false
   },
   "outputs": [
    {
     "data": {
      "text/plain": [
       "<matplotlib.legend.Legend at 0x1104b150>"
      ]
     },
     "execution_count": 143,
     "metadata": {},
     "output_type": "execute_result"
    },
    {
     "data": {
      "image/png": "[encoded data removed]",
      "text/plain": [
       "<matplotlib.figure.Figure at 0xea1e310>"
      ]
     },
     "metadata": {},
     "output_type": "display_data"
    }
   ],
   "source": [
    "# DataFrameの数\n",
    "n = len(summary_2014)\n",
    "\n",
    "# グラフのタイトル\n",
    "plt.title('Product:2532854')\n",
    "\n",
    "# 販売個数を描画\n",
    "plt.plot(range(n), summary_2014[\"monthly_sales\"].values, label=\"monthly_sales\")\n",
    "\n",
    "# 12か月後までの今後の予測値を描画\n",
    "plt.plot(range(n, n + 12), sales, label=\"predicted value\")\n",
    "\n",
    "# 判例を描画\n",
    "plt.legend()"
   ]
  },
  {
   "cell_type": "code",
   "execution_count": null,
   "metadata": {
    "collapsed": true
   },
   "outputs": [],
   "source": []
  }
 ],
 "metadata": {
  "anaconda-cloud": {},
  "kernelspec": {
   "display_name": "Python [default]",
   "language": "python",
   "name": "python3"
  },
  "language_info": {
   "codemirror_mode": {
    "name": "ipython",
    "version": 3
   },
   "file_extension": ".py",
   "mimetype": "text/x-python",
   "name": "python",
   "nbconvert_exporter": "python",
   "pygments_lexer": "ipython3",
   "version": "3.5.2"
  }
 },
 "nbformat": 4,
 "nbformat_minor": 1
}
